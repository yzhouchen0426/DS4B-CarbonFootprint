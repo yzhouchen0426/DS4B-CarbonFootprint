{
  "nbformat": 4,
  "nbformat_minor": 0,
  "metadata": {
    "colab": {
      "name": "How much GHG does your diet contribute?.ipynb",
      "provenance": [],
      "collapsed_sections": []
    },
    "kernelspec": {
      "name": "python3",
      "display_name": "Python 3"
    },
    "language_info": {
      "name": "python"
    }
  },
  "cells": [
    {
      "cell_type": "code",
      "metadata": {
        "id": "ON2VvzPFtlpu"
      },
      "source": [
        "food_dict = {'Average plant starch': 1.5,\n",
        "'Average plant protein': 1.5,\n",
        "'Average animal protein': 17,\n",
        "'Average vegetable': 0.6,\n",
        "'Average fruit': 0.6,\n",
        "'Average plant oils': 5.4,\n",
        "'Wheat & Rye (Bread)': 1.4,\n",
        "'Maize (Meal)': 1.1,\n",
        "'Barley (Beer)': 1.1,\n",
        "'Oatmeal': 1.6,\n",
        "'Rice': 4,\n",
        "'Potatoes': 0.3,\n",
        "'Cassava': 0.9,\n",
        "'Cane Sugar': 2.6,\n",
        "'Beet Sugar': 1.4,\n",
        "'Other Pulses': 1.6,\n",
        "'Peas': 0.8,\n",
        "'Nuts': 0.2,\n",
        "'Groundnuts': 2.4,\n",
        "'Soymilk': 1,\n",
        "'Tofu': 3,\n",
        "'Soybean Oil': 6,\n",
        "'Palm Oil': 7.6,\n",
        "'Sunflower Oil': 3.5,\n",
        "'Rapeseed Oil': 3.7,\n",
        "'Olive Oil': 6,\n",
        "'Tomatoes': 1.4,\n",
        "'Onions & Leeks': 0.3,\n",
        "'Root Vegetables': 0.3,\n",
        "'Cabbages': 0.4,\n",
        "'Other Vegetables': 0.5,\n",
        "'Citrus Fruit': 0.3,\n",
        "'Bananas': 0.8,\n",
        "'Apples': 0.3,\n",
        "'Berries & Grapes': 1.1,\n",
        "'Wine': 1.4,\n",
        "'Other Fruit': 0.7,\n",
        "'Coffee': 16.5,\n",
        "'Dark Chocolate': 18.7,\n",
        "'Beef': 59.6,\n",
        "'Lamb & Mutton': 24.5,\n",
        "'Pork': 7.2,\n",
        "'Poultry': 6.1,\n",
        "'Milk': 2.8,\n",
        "'Cheese': 21.2,\n",
        "'Eggs': 4.5,\n",
        "'Fish (farmed)': 5.1,\n",
        "'Shrimps (farmed)': 11.8\n",
        "}"
      ],
      "execution_count": 7,
      "outputs": []
    },
    {
      "cell_type": "code",
      "metadata": {
        "colab": {
          "base_uri": "https://localhost:8080/"
        },
        "id": "Z0YJAYCNt4Ws",
        "outputId": "f933b146-2a12-45d6-b246-3ed33450532d"
      },
      "source": [
        "food_dict"
      ],
      "execution_count": 8,
      "outputs": [
        {
          "output_type": "execute_result",
          "data": {
            "text/plain": [
              "{'Apples': 0.3,\n",
              " 'Average animal protein': 17,\n",
              " 'Average fruit': 0.6,\n",
              " 'Average plant oils': 5.4,\n",
              " 'Average plant protein': 1.5,\n",
              " 'Average plant starch': 1.5,\n",
              " 'Average vegetable': 0.6,\n",
              " 'Bananas': 0.8,\n",
              " 'Barley (Beer)': 1.1,\n",
              " 'Beef': 59.6,\n",
              " 'Beet Sugar': 1.4,\n",
              " 'Berries & Grapes': 1.1,\n",
              " 'Cabbages': 0.4,\n",
              " 'Cane Sugar': 2.6,\n",
              " 'Cassava': 0.9,\n",
              " 'Cheese': 21.2,\n",
              " 'Citrus Fruit': 0.3,\n",
              " 'Coffee': 16.5,\n",
              " 'Dark Chocolate': 18.7,\n",
              " 'Eggs': 4.5,\n",
              " 'Fish (farmed)': 5.1,\n",
              " 'Groundnuts': 2.4,\n",
              " 'Lamb & Mutton': 24.5,\n",
              " 'Maize (Meal)': 1.1,\n",
              " 'Milk': 2.8,\n",
              " 'Nuts': 0.2,\n",
              " 'Oatmeal': 1.6,\n",
              " 'Olive Oil': 6,\n",
              " 'Onions & Leeks': 0.3,\n",
              " 'Other Fruit': 0.7,\n",
              " 'Other Pulses': 1.6,\n",
              " 'Other Vegetables': 0.5,\n",
              " 'Palm Oil': 7.6,\n",
              " 'Peas': 0.8,\n",
              " 'Pork': 7.2,\n",
              " 'Potatoes': 0.3,\n",
              " 'Poultry': 6.1,\n",
              " 'Rapeseed Oil': 3.7,\n",
              " 'Rice': 4,\n",
              " 'Root Vegetables': 0.3,\n",
              " 'Shrimps (farmed)': 11.8,\n",
              " 'Soybean Oil': 6,\n",
              " 'Soymilk': 1,\n",
              " 'Sunflower Oil': 3.5,\n",
              " 'Tofu': 3,\n",
              " 'Tomatoes': 1.4,\n",
              " 'Wheat & Rye (Bread)': 1.4,\n",
              " 'Wine': 1.4}"
            ]
          },
          "metadata": {
            "tags": []
          },
          "execution_count": 8
        }
      ]
    },
    {
      "cell_type": "code",
      "metadata": {
        "colab": {
          "base_uri": "https://localhost:8080/"
        },
        "id": "o3lD4xdjt5_4",
        "outputId": "08d64edb-06c1-471c-9a42-f7093e0a9e8f"
      },
      "source": [
        "# Retrieve ghg for a particular group\n",
        "food_dict['Milk']"
      ],
      "execution_count": 9,
      "outputs": [
        {
          "output_type": "execute_result",
          "data": {
            "text/plain": [
              "2.8"
            ]
          },
          "metadata": {
            "tags": []
          },
          "execution_count": 9
        }
      ]
    },
    {
      "cell_type": "code",
      "metadata": {
        "id": "UPwTQMmUuDUp"
      },
      "source": [
        "# Make food_dict a global variable so my functions can have access to it\n",
        "global food_dict"
      ],
      "execution_count": 10,
      "outputs": []
    },
    {
      "cell_type": "code",
      "metadata": {
        "id": "xnG3uvcHtWUU"
      },
      "source": [
        "# Function for one food group\n",
        "def getGHG(food, g):\n",
        "  ghg_amount = food_dict[food]\n",
        "  total_ghg = ghg_amount *g\n",
        "  return total_ghg"
      ],
      "execution_count": 11,
      "outputs": []
    },
    {
      "cell_type": "markdown",
      "metadata": {
        "id": "fYwROHUweDw4"
      },
      "source": [
        "1 cup of uncooked rice/ beans = 200g\n",
        "\n",
        "1 cup of cooked pasta = 200g\n",
        "\n",
        "1 medium-sized potato = 150g\n",
        "\n",
        "1 slice of bread = 25g\n",
        "\n",
        "1 egg = 50g\n",
        "\n",
        "A palm-sized portion of meat = 85g\n",
        "\n",
        "1 cup of cooked vegetables = 160g\n",
        "\n",
        "A handful of fruits/ 1 banana/ 1 apple/ 1 orange = 80g\n",
        "\n",
        "1/3 cup of nuts = 50g\n",
        "\n",
        "1 cup of milk = 240g\n",
        "\n",
        "1 tbsp of ground coffee = 5g\n"
      ]
    },
    {
      "cell_type": "code",
      "metadata": {
        "colab": {
          "base_uri": "https://localhost:8080/"
        },
        "id": "xZfF7_HRUG9W",
        "outputId": "1712d3aa-ae62-4823-f852-bc9cdc10c9f0"
      },
      "source": [
        "n = input(\"How many food items would you like to input? \")\n",
        "count = int(n)\n",
        "\n",
        "final_ghg = 0\n",
        "all_food = []\n",
        "all_ghg = []\n",
        "\n",
        "for a in range(0, count):\n",
        "    food = input(\"Enter food item: \")\n",
        "    x = input(\"Enter mass consumed in g: \")\n",
        "    g = int(x)\n",
        "    all_food.append(food)\n",
        "    all_ghg.append(getGHG (food,g))\n",
        "    final_ghg += (getGHG(food, g))\n",
        "\n",
        "print('These food items contribute', final_ghg, 'g CO2 equivalent')\n",
        "print(all_food)\n",
        "print(all_ghg)"
      ],
      "execution_count": 12,
      "outputs": [
        {
          "output_type": "stream",
          "text": [
            "How many food items would you like to input? 3\n",
            "Enter food item: Rice\n",
            "Enter mass consumed in g: 100\n",
            "Enter food item: Average vegetable\n",
            "Enter mass consumed in g: 80\n",
            "Enter food item: Shrimps (farmed)\n",
            "Enter mass consumed in g: 60\n",
            "These food items contribute 1156.0 g CO2 equivalent\n",
            "['Rice', 'Average vegetable', 'Shrimps (farmed)']\n",
            "[400, 48.0, 708.0]\n"
          ],
          "name": "stdout"
        }
      ]
    },
    {
      "cell_type": "code",
      "metadata": {
        "id": "F9DSQiJOkaID"
      },
      "source": [
        "import matplotlib.pyplot as plt\n",
        "import numpy as np"
      ],
      "execution_count": 13,
      "outputs": []
    },
    {
      "cell_type": "code",
      "metadata": {
        "id": "0l9VivTruuDT"
      },
      "source": [
        "def func(pct, allvals):\n",
        "    absolute = int(round(pct/100.*np.sum(allvals)))\n",
        "    return \"{:.1f}%\\n({:d} g)\".format(pct, absolute)"
      ],
      "execution_count": 14,
      "outputs": []
    },
    {
      "cell_type": "code",
      "metadata": {
        "colab": {
          "base_uri": "https://localhost:8080/",
          "height": 416
        },
        "id": "6ZvQvVhbtpU0",
        "outputId": "56517cb5-0f82-48f2-bf8d-cfc64662949e"
      },
      "source": [
        "plt.pie(all_ghg, explode=None, labels=all_food, colors=None, autopct=lambda pct: func(pct, all_ghg), shadow=False)\n"
      ],
      "execution_count": 15,
      "outputs": [
        {
          "output_type": "execute_result",
          "data": {
            "text/plain": [
              "([<matplotlib.patches.Wedge at 0x7f024f1c89d0>,\n",
              "  <matplotlib.patches.Wedge at 0x7f024f1d7290>,\n",
              "  <matplotlib.patches.Wedge at 0x7f024f1d7ad0>],\n",
              " [Text(0.5116026827081954, 0.9737878080186554, 'Rice'),\n",
              "  Text(-0.736635874922943, 0.8169256929344985, 'Average vegetable'),\n",
              "  Text(-0.3805885726422204, -1.0320621775717573, 'Shrimps (farmed)')],\n",
              " [Text(0.2790560087499247, 0.5311569861919938, '34.6%\\n(400 g)'),\n",
              "  Text(-0.4018013863216052, 0.4455958325097264, '4.2%\\n(48 g)'),\n",
              "  Text(-0.20759376689575657, -0.5629430059482312, '61.2%\\n(708 g)')])"
            ]
          },
          "metadata": {
            "tags": []
          },
          "execution_count": 15
        },
        {
          "output_type": "display_data",
          "data": {
            "image/png": "[encoded data removed]",
            "text/plain": [
              "<Figure size 432x288 with 1 Axes>"
            ]
          },
          "metadata": {
            "tags": []
          }
        }
      ]
    }
  ]
}